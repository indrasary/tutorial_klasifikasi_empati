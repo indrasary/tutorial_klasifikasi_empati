{
  "cells": [
    {
      "cell_type": "markdown",
      "metadata": {
        "id": "view-in-github",
        "colab_type": "text"
      },
      "source": [
        "<a href=\"https://colab.research.google.com/github/indrasary/tutorial_klasifikasi_empati/blob/main/lstm_empathy.ipynb\" target=\"_parent\"><img src=\"https://colab.research.google.com/assets/colab-badge.svg\" alt=\"Open In Colab\"/></a>"
      ]
    },
    {
      "cell_type": "code",
      "execution_count": null,
      "id": "7e9c8591-b825-4c9e-a579-77c696a6446a",
      "metadata": {
        "tags": [],
        "id": "7e9c8591-b825-4c9e-a579-77c696a6446a",
        "colab": {
          "base_uri": "https://localhost:8080/"
        },
        "outputId": "988486ad-b86b-4d3a-8672-e069cc615556"
      },
      "outputs": [
        {
          "output_type": "stream",
          "name": "stdout",
          "text": [
            "Collecting tensorflow==2.14\n",
            "  Downloading tensorflow-2.14.0-cp310-cp310-manylinux_2_17_x86_64.manylinux2014_x86_64.whl (489.8 MB)\n",
            "\u001b[2K     \u001b[90m━━━━━━━━━━━━━━━━━━━━━━━━━━━━━━━━━━━━━━━━\u001b[0m \u001b[32m489.8/489.8 MB\u001b[0m \u001b[31m1.2 MB/s\u001b[0m eta \u001b[36m0:00:00\u001b[0m\n",
            "\u001b[?25hRequirement already satisfied: absl-py>=1.0.0 in /usr/local/lib/python3.10/dist-packages (from tensorflow==2.14) (1.4.0)\n",
            "Requirement already satisfied: astunparse>=1.6.0 in /usr/local/lib/python3.10/dist-packages (from tensorflow==2.14) (1.6.3)\n",
            "Collecting flatbuffers>=23.5.26 (from tensorflow==2.14)\n",
            "  Downloading flatbuffers-23.5.26-py2.py3-none-any.whl (26 kB)\n",
            "Requirement already satisfied: gast!=0.5.0,!=0.5.1,!=0.5.2,>=0.2.1 in /usr/local/lib/python3.10/dist-packages (from tensorflow==2.14) (0.4.0)\n",
            "Requirement already satisfied: google-pasta>=0.1.1 in /usr/local/lib/python3.10/dist-packages (from tensorflow==2.14) (0.2.0)\n",
            "Requirement already satisfied: h5py>=2.9.0 in /usr/local/lib/python3.10/dist-packages (from tensorflow==2.14) (3.9.0)\n",
            "Requirement already satisfied: libclang>=13.0.0 in /usr/local/lib/python3.10/dist-packages (from tensorflow==2.14) (16.0.6)\n",
            "Requirement already satisfied: ml-dtypes==0.2.0 in /usr/local/lib/python3.10/dist-packages (from tensorflow==2.14) (0.2.0)\n",
            "Requirement already satisfied: numpy>=1.23.5 in /usr/local/lib/python3.10/dist-packages (from tensorflow==2.14) (1.23.5)\n",
            "Requirement already satisfied: opt-einsum>=2.3.2 in /usr/local/lib/python3.10/dist-packages (from tensorflow==2.14) (3.3.0)\n",
            "Requirement already satisfied: packaging in /usr/local/lib/python3.10/dist-packages (from tensorflow==2.14) (23.2)\n",
            "Collecting protobuf!=4.21.0,!=4.21.1,!=4.21.2,!=4.21.3,!=4.21.4,!=4.21.5,<5.0.0dev,>=3.20.3 (from tensorflow==2.14)\n",
            "  Downloading protobuf-4.25.0-cp37-abi3-manylinux2014_x86_64.whl (294 kB)\n",
            "\u001b[2K     \u001b[90m━━━━━━━━━━━━━━━━━━━━━━━━━━━━━━━━━━━━━━━━\u001b[0m \u001b[32m294.4/294.4 kB\u001b[0m \u001b[31m20.7 MB/s\u001b[0m eta \u001b[36m0:00:00\u001b[0m\n",
            "\u001b[?25hRequirement already satisfied: setuptools in /usr/local/lib/python3.10/dist-packages (from tensorflow==2.14) (67.7.2)\n",
            "Requirement already satisfied: six>=1.12.0 in /usr/local/lib/python3.10/dist-packages (from tensorflow==2.14) (1.16.0)\n",
            "Requirement already satisfied: termcolor>=1.1.0 in /usr/local/lib/python3.10/dist-packages (from tensorflow==2.14) (2.3.0)\n",
            "Requirement already satisfied: typing-extensions>=3.6.6 in /usr/local/lib/python3.10/dist-packages (from tensorflow==2.14) (4.5.0)\n",
            "Requirement already satisfied: wrapt<1.15,>=1.11.0 in /usr/local/lib/python3.10/dist-packages (from tensorflow==2.14) (1.14.1)\n",
            "Requirement already satisfied: tensorflow-io-gcs-filesystem>=0.23.1 in /usr/local/lib/python3.10/dist-packages (from tensorflow==2.14) (0.34.0)\n",
            "Requirement already satisfied: grpcio<2.0,>=1.24.3 in /usr/local/lib/python3.10/dist-packages (from tensorflow==2.14) (1.59.0)\n",
            "Collecting tensorboard<2.15,>=2.14 (from tensorflow==2.14)\n",
            "  Downloading tensorboard-2.14.1-py3-none-any.whl (5.5 MB)\n",
            "\u001b[2K     \u001b[90m━━━━━━━━━━━━━━━━━━━━━━━━━━━━━━━━━━━━━━━━\u001b[0m \u001b[32m5.5/5.5 MB\u001b[0m \u001b[31m40.5 MB/s\u001b[0m eta \u001b[36m0:00:00\u001b[0m\n",
            "\u001b[?25hCollecting tensorflow-estimator<2.15,>=2.14.0 (from tensorflow==2.14)\n",
            "  Downloading tensorflow_estimator-2.14.0-py2.py3-none-any.whl (440 kB)\n",
            "\u001b[2K     \u001b[90m━━━━━━━━━━━━━━━━━━━━━━━━━━━━━━━━━━━━━━━━\u001b[0m \u001b[32m440.7/440.7 kB\u001b[0m \u001b[31m19.5 MB/s\u001b[0m eta \u001b[36m0:00:00\u001b[0m\n",
            "\u001b[?25hCollecting keras<2.15,>=2.14.0 (from tensorflow==2.14)\n",
            "  Downloading keras-2.14.0-py3-none-any.whl (1.7 MB)\n",
            "\u001b[2K     \u001b[90m━━━━━━━━━━━━━━━━━━━━━━━━━━━━━━━━━━━━━━━━\u001b[0m \u001b[32m1.7/1.7 MB\u001b[0m \u001b[31m60.2 MB/s\u001b[0m eta \u001b[36m0:00:00\u001b[0m\n",
            "\u001b[?25hRequirement already satisfied: wheel<1.0,>=0.23.0 in /usr/local/lib/python3.10/dist-packages (from astunparse>=1.6.0->tensorflow==2.14) (0.41.2)\n",
            "Requirement already satisfied: google-auth<3,>=1.6.3 in /usr/local/lib/python3.10/dist-packages (from tensorboard<2.15,>=2.14->tensorflow==2.14) (2.17.3)\n",
            "Collecting google-auth-oauthlib<1.1,>=0.5 (from tensorboard<2.15,>=2.14->tensorflow==2.14)\n",
            "  Downloading google_auth_oauthlib-1.0.0-py2.py3-none-any.whl (18 kB)\n",
            "Requirement already satisfied: markdown>=2.6.8 in /usr/local/lib/python3.10/dist-packages (from tensorboard<2.15,>=2.14->tensorflow==2.14) (3.5)\n",
            "Requirement already satisfied: requests<3,>=2.21.0 in /usr/local/lib/python3.10/dist-packages (from tensorboard<2.15,>=2.14->tensorflow==2.14) (2.31.0)\n",
            "Collecting tensorboard-data-server<0.8.0,>=0.7.0 (from tensorboard<2.15,>=2.14->tensorflow==2.14)\n",
            "  Downloading tensorboard_data_server-0.7.2-py3-none-manylinux_2_31_x86_64.whl (6.6 MB)\n",
            "\u001b[2K     \u001b[90m━━━━━━━━━━━━━━━━━━━━━━━━━━━━━━━━━━━━━━━━\u001b[0m \u001b[32m6.6/6.6 MB\u001b[0m \u001b[31m85.6 MB/s\u001b[0m eta \u001b[36m0:00:00\u001b[0m\n",
            "\u001b[?25hRequirement already satisfied: werkzeug>=1.0.1 in /usr/local/lib/python3.10/dist-packages (from tensorboard<2.15,>=2.14->tensorflow==2.14) (3.0.1)\n",
            "Requirement already satisfied: cachetools<6.0,>=2.0.0 in /usr/local/lib/python3.10/dist-packages (from google-auth<3,>=1.6.3->tensorboard<2.15,>=2.14->tensorflow==2.14) (5.3.2)\n",
            "Requirement already satisfied: pyasn1-modules>=0.2.1 in /usr/local/lib/python3.10/dist-packages (from google-auth<3,>=1.6.3->tensorboard<2.15,>=2.14->tensorflow==2.14) (0.3.0)\n",
            "Requirement already satisfied: rsa<5,>=3.1.4 in /usr/local/lib/python3.10/dist-packages (from google-auth<3,>=1.6.3->tensorboard<2.15,>=2.14->tensorflow==2.14) (4.9)\n",
            "Requirement already satisfied: requests-oauthlib>=0.7.0 in /usr/local/lib/python3.10/dist-packages (from google-auth-oauthlib<1.1,>=0.5->tensorboard<2.15,>=2.14->tensorflow==2.14) (1.3.1)\n",
            "Requirement already satisfied: charset-normalizer<4,>=2 in /usr/local/lib/python3.10/dist-packages (from requests<3,>=2.21.0->tensorboard<2.15,>=2.14->tensorflow==2.14) (3.3.1)\n",
            "Requirement already satisfied: idna<4,>=2.5 in /usr/local/lib/python3.10/dist-packages (from requests<3,>=2.21.0->tensorboard<2.15,>=2.14->tensorflow==2.14) (3.4)\n",
            "Requirement already satisfied: urllib3<3,>=1.21.1 in /usr/local/lib/python3.10/dist-packages (from requests<3,>=2.21.0->tensorboard<2.15,>=2.14->tensorflow==2.14) (2.0.7)\n",
            "Requirement already satisfied: certifi>=2017.4.17 in /usr/local/lib/python3.10/dist-packages (from requests<3,>=2.21.0->tensorboard<2.15,>=2.14->tensorflow==2.14) (2023.7.22)\n",
            "Requirement already satisfied: MarkupSafe>=2.1.1 in /usr/local/lib/python3.10/dist-packages (from werkzeug>=1.0.1->tensorboard<2.15,>=2.14->tensorflow==2.14) (2.1.3)\n",
            "Requirement already satisfied: pyasn1<0.6.0,>=0.4.6 in /usr/local/lib/python3.10/dist-packages (from pyasn1-modules>=0.2.1->google-auth<3,>=1.6.3->tensorboard<2.15,>=2.14->tensorflow==2.14) (0.5.0)\n",
            "Requirement already satisfied: oauthlib>=3.0.0 in /usr/local/lib/python3.10/dist-packages (from requests-oauthlib>=0.7.0->google-auth-oauthlib<1.1,>=0.5->tensorboard<2.15,>=2.14->tensorflow==2.14) (3.2.2)\n",
            "Installing collected packages: flatbuffers, tensorflow-estimator, tensorboard-data-server, protobuf, keras, google-auth-oauthlib, tensorboard, tensorflow\n",
            "  Attempting uninstall: flatbuffers\n",
            "    Found existing installation: flatbuffers 1.12\n",
            "    Uninstalling flatbuffers-1.12:\n",
            "      Successfully uninstalled flatbuffers-1.12\n",
            "  Attempting uninstall: tensorflow-estimator\n",
            "    Found existing installation: tensorflow-estimator 2.9.0\n",
            "    Uninstalling tensorflow-estimator-2.9.0:\n",
            "      Successfully uninstalled tensorflow-estimator-2.9.0\n",
            "  Attempting uninstall: tensorboard-data-server\n",
            "    Found existing installation: tensorboard-data-server 0.6.1\n",
            "    Uninstalling tensorboard-data-server-0.6.1:\n",
            "      Successfully uninstalled tensorboard-data-server-0.6.1\n",
            "  Attempting uninstall: protobuf\n",
            "    Found existing installation: protobuf 3.19.6\n",
            "    Uninstalling protobuf-3.19.6:\n",
            "      Successfully uninstalled protobuf-3.19.6\n",
            "  Attempting uninstall: keras\n",
            "    Found existing installation: keras 2.9.0\n",
            "    Uninstalling keras-2.9.0:\n",
            "      Successfully uninstalled keras-2.9.0\n",
            "  Attempting uninstall: google-auth-oauthlib\n",
            "    Found existing installation: google-auth-oauthlib 0.4.6\n",
            "    Uninstalling google-auth-oauthlib-0.4.6:\n",
            "      Successfully uninstalled google-auth-oauthlib-0.4.6\n",
            "  Attempting uninstall: tensorboard\n",
            "    Found existing installation: tensorboard 2.9.1\n",
            "    Uninstalling tensorboard-2.9.1:\n",
            "      Successfully uninstalled tensorboard-2.9.1\n",
            "  Attempting uninstall: tensorflow\n",
            "    Found existing installation: tensorflow 2.9.0\n",
            "    Uninstalling tensorflow-2.9.0:\n",
            "      Successfully uninstalled tensorflow-2.9.0\n",
            "\u001b[31mERROR: pip's dependency resolver does not currently take into account all the packages that are installed. This behaviour is the source of the following dependency conflicts.\n",
            "tensorflow-metadata 1.14.0 requires protobuf<4.21,>=3.20.3, but you have protobuf 4.25.0 which is incompatible.\u001b[0m\u001b[31m\n",
            "\u001b[0mSuccessfully installed flatbuffers-23.5.26 google-auth-oauthlib-1.0.0 keras-2.14.0 protobuf-4.25.0 tensorboard-2.14.1 tensorboard-data-server-0.7.2 tensorflow-2.14.0 tensorflow-estimator-2.14.0\n"
          ]
        }
      ],
      "source": [
        "!pip3 install tensorflow==2.14"
      ]
    },
    {
      "cell_type": "code",
      "source": [
        "!pip install visualkeras"
      ],
      "metadata": {
        "colab": {
          "base_uri": "https://localhost:8080/"
        },
        "id": "tFKp-Du4x9RQ",
        "outputId": "ddf3b703-fc87-4e21-989d-8ec4fc154d9a"
      },
      "id": "tFKp-Du4x9RQ",
      "execution_count": null,
      "outputs": [
        {
          "output_type": "stream",
          "name": "stdout",
          "text": [
            "Collecting visualkeras\n",
            "  Downloading visualkeras-0.0.2-py3-none-any.whl (12 kB)\n",
            "Requirement already satisfied: pillow>=6.2.0 in /usr/local/lib/python3.10/dist-packages (from visualkeras) (9.4.0)\n",
            "Requirement already satisfied: numpy>=1.18.1 in /usr/local/lib/python3.10/dist-packages (from visualkeras) (1.23.5)\n",
            "Collecting aggdraw>=1.3.11 (from visualkeras)\n",
            "  Downloading aggdraw-1.3.18-cp310-cp310-manylinux_2_17_x86_64.manylinux2014_x86_64.whl (993 kB)\n",
            "\u001b[2K     \u001b[90m━━━━━━━━━━━━━━━━━━━━━━━━━━━━━━━━━━━━━━━━\u001b[0m \u001b[32m993.7/993.7 kB\u001b[0m \u001b[31m7.9 MB/s\u001b[0m eta \u001b[36m0:00:00\u001b[0m\n",
            "\u001b[?25hInstalling collected packages: aggdraw, visualkeras\n",
            "Successfully installed aggdraw-1.3.18 visualkeras-0.0.2\n"
          ]
        }
      ]
    },
    {
      "cell_type": "code",
      "source": [
        "import keras\n",
        "import tensorflow as tf\n",
        "from keras.utils import plot_model\n",
        "from tensorflow import keras\n",
        "from keras.models import Sequential\n",
        "from tensorflow.keras.layers import Input, Conv2D, Dense, Flatten, Dropout\n",
        "from tensorflow.keras.layers import GlobalMaxPooling2D, MaxPooling2D\n",
        "from tensorflow.keras.models import Model\n",
        "from tensorflow.keras import regularizers, optimizers"
      ],
      "metadata": {
        "id": "RMm0QNa4yNIn"
      },
      "id": "RMm0QNa4yNIn",
      "execution_count": null,
      "outputs": []
    },
    {
      "cell_type": "code",
      "execution_count": null,
      "id": "e3ebc5b2-a615-4ebd-bea2-bd2c52614576",
      "metadata": {
        "tags": [],
        "id": "e3ebc5b2-a615-4ebd-bea2-bd2c52614576"
      },
      "outputs": [],
      "source": [
        "# !pip3 install tensorflow-metal==0.5.0"
      ]
    },
    {
      "cell_type": "markdown",
      "source": [
        "# Config"
      ],
      "metadata": {
        "id": "TqwmfVcHY4RG"
      },
      "id": "TqwmfVcHY4RG"
    },
    {
      "cell_type": "code",
      "source": [
        "# config\n",
        "TRAINING = True\n",
        "# TRAINING = False\n",
        "\n",
        "USE_GDRIVE = True\n",
        "#USE_GDRIVE = False\n",
        "\n",
        "PROJECT_DIR = \"drive/MyDrive/ColabNotebooks/\"\n",
        "# PROJECT_DIR = \"/home/alkhemi/Documents/AE-CE/\"\n",
        "\n",
        "MAX_SEQUENCE_LENGTH = 100\n",
        "MAX_VOCAB_SIZE = 20000\n",
        "EMBEDDING_DIM = 100\n",
        "VALIDATION_SPLIT = 0.2\n",
        "BATCH_SIZE = 128\n",
        "EPOCHS = 5"
      ],
      "metadata": {
        "id": "qOWHIRu0YEFW"
      },
      "id": "qOWHIRu0YEFW",
      "execution_count": null,
      "outputs": []
    },
    {
      "cell_type": "code",
      "execution_count": null,
      "id": "a3497088-0143-4c6b-960d-7b0cc97ab257",
      "metadata": {
        "tags": [],
        "id": "a3497088-0143-4c6b-960d-7b0cc97ab257"
      },
      "outputs": [],
      "source": [
        "# https://deeplearningcourses.com/c/deep-learning-advanced-nlp\n",
        "from __future__ import print_function, division\n",
        "from builtins import range\n",
        "# Note: you may need to update your version of future\n",
        "# sudo pip install -U future"
      ]
    },
    {
      "cell_type": "code",
      "execution_count": null,
      "id": "828a7281-4ddf-48d7-ac36-26cf6592d0e8",
      "metadata": {
        "tags": [],
        "id": "828a7281-4ddf-48d7-ac36-26cf6592d0e8"
      },
      "outputs": [],
      "source": [
        "import os\n",
        "import sys\n",
        "import numpy as np\n",
        "import pandas as pd\n",
        "import matplotlib.pyplot as plt"
      ]
    },
    {
      "cell_type": "code",
      "execution_count": null,
      "id": "90d36ae1-1772-4706-9ef9-78ce73fcefea",
      "metadata": {
        "tags": [],
        "id": "90d36ae1-1772-4706-9ef9-78ce73fcefea"
      },
      "outputs": [],
      "source": [
        "from keras.models import Model\n",
        "from keras.layers import Dense, Embedding, Input\n",
        "from keras.layers import LSTM, Bidirectional, GlobalMaxPool1D, Dropout\n",
        "from keras.preprocessing.text import Tokenizer\n",
        "from keras.utils import pad_sequences\n",
        "from keras.optimizers import Adam\n",
        "from sklearn.metrics import roc_auc_score"
      ]
    },
    {
      "cell_type": "code",
      "execution_count": null,
      "id": "21943aa7-6ffe-460b-9e67-8f700f3e8ba1",
      "metadata": {
        "tags": [],
        "id": "21943aa7-6ffe-460b-9e67-8f700f3e8ba1"
      },
      "outputs": [],
      "source": [
        "import keras.backend as K\n",
        "# if len(K.tensorflow_backend._get_available_gpus()) > 0:\n",
        "#   from keras.layers import CuDNNLSTM as LSTM\n",
        "#   from keras.layers import CuDNNGRU as GRU\n",
        "\n",
        "\n",
        "# Download the data:\n",
        "# https://www.kaggle.com/c/jigsaw-toxic-comment-classification-challenge\n",
        "# https://lazyprogrammer.me/course_files/toxic_comment_train.csv\n",
        "# Download the word vectors:\n",
        "# http://nlp.stanford.edu/data/glove.6B.zip\n"
      ]
    },
    {
      "cell_type": "markdown",
      "source": [],
      "metadata": {
        "id": "H1OWdXFL4evP"
      },
      "id": "H1OWdXFL4evP"
    },
    {
      "cell_type": "code",
      "source": [
        "if USE_GDRIVE:\n",
        "  from google.colab import drive\n",
        "  drive.mount('/content/drive')"
      ],
      "metadata": {
        "id": "19hdiZLG81iN",
        "colab": {
          "base_uri": "https://localhost:8080/"
        },
        "outputId": "849fcdd1-e522-4ed4-ba77-e6485ed10301"
      },
      "id": "19hdiZLG81iN",
      "execution_count": null,
      "outputs": [
        {
          "output_type": "stream",
          "name": "stdout",
          "text": [
            "Mounted at /content/drive\n"
          ]
        }
      ]
    },
    {
      "cell_type": "code",
      "source": [
        "from google.colab import drive\n",
        "drive.mount('/content/drive')"
      ],
      "metadata": {
        "id": "Zy2AkpCx4kTB"
      },
      "id": "Zy2AkpCx4kTB",
      "execution_count": null,
      "outputs": []
    },
    {
      "cell_type": "markdown",
      "source": [
        "# Data pipeline"
      ],
      "metadata": {
        "id": "HZQfUwvx_xNP"
      },
      "id": "HZQfUwvx_xNP"
    },
    {
      "cell_type": "code",
      "execution_count": null,
      "id": "d425cdfa-d6a9-44c5-a832-3d94eff9ad20",
      "metadata": {
        "tags": [],
        "colab": {
          "base_uri": "https://localhost:8080/"
        },
        "id": "d425cdfa-d6a9-44c5-a832-3d94eff9ad20",
        "outputId": "29590e12-88bc-42fd-b264-d9b54f9308fd"
      },
      "outputs": [
        {
          "output_type": "stream",
          "name": "stdout",
          "text": [
            "Loading word vectors...\n",
            "Found 400000 word vectors.\n"
          ]
        }
      ],
      "source": [
        "# load in pre-trained word vectors\n",
        "print('Loading word vectors...')\n",
        "word2vec = {}\n",
        "with open(os.path.join(PROJECT_DIR, \"glove.6B/\", \"glove.6B.%sd.txt\" % EMBEDDING_DIM)) as f:\n",
        "  # is just a space-separated text file in the format:\n",
        "  # word vec[0] vec[1] vec[2] ...vec[EMBEDDING_DIM]\n",
        "  for line in f:\n",
        "    values = line.split()\n",
        "    word = values[0]\n",
        "    vec = np.asarray(values[1:], dtype='float32')\n",
        "    word2vec[word] = vec\n",
        "print('Found %s word vectors.' % len(word2vec))"
      ]
    },
    {
      "cell_type": "code",
      "execution_count": null,
      "id": "1a2b7489-da4e-49e9-baa5-28429e92913d",
      "metadata": {
        "tags": [],
        "colab": {
          "base_uri": "https://localhost:8080/"
        },
        "id": "1a2b7489-da4e-49e9-baa5-28429e92913d",
        "outputId": "7b805dc7-7e1a-4631-a5d4-3bea0d631dd6"
      },
      "outputs": [
        {
          "output_type": "stream",
          "name": "stdout",
          "text": [
            "Loading in comments...\n",
            "['What brings you in here today?;Yeah, I have this pain in my chest'\n",
            " \"OK, and where is the pain exactly? ;It's just right  over on the on the left side\"\n",
            " 'OK, and when did this pain start?;It started just 30 minutes ago'\n",
            " 'OK, and did it just come on randomly or were you doing something strenuous?; I was just shovelling the driveway and it came on'\n",
            " \"OK, and has that pain been getting worse at all over the last half an hour?;No, it just came on suddenly and it's uh, uh, I'm sorry. Yeah the pain has been there this whole time and it's gotten worse ever since it started\"]\n",
            "[[1. 0.]\n",
            " [0. 1.]\n",
            " [0. 1.]\n",
            " [0. 1.]\n",
            " [0. 1.]]\n"
          ]
        }
      ],
      "source": [
        "# prepare text samples and their labels\n",
        "print('Loading in comments...')\n",
        "\n",
        "train = pd.read_csv(PROJECT_DIR + \"train_en.csv\", delimiter=';')\n",
        "sentences = (train[\"doctor\"]+\";\"+train[\"patient\"]).fillna(\"DUMMY_VALUE\").values\n",
        "possible_labels = [\"AE\", \"CE\"]\n",
        "targets = train[possible_labels].fillna(0).values\n",
        "print(sentences[0:5])\n",
        "print(targets[0:5])"
      ]
    },
    {
      "cell_type": "code",
      "execution_count": null,
      "id": "8d16b377-9b24-48de-a823-2f5e3a510484",
      "metadata": {
        "tags": [],
        "id": "8d16b377-9b24-48de-a823-2f5e3a510484"
      },
      "outputs": [],
      "source": [
        "# convert the sentences (strings) into integers\n",
        "tokenizer = Tokenizer(num_words=MAX_VOCAB_SIZE)\n",
        "tokenizer.fit_on_texts(sentences)\n",
        "sequences = tokenizer.texts_to_sequences(sentences)"
      ]
    },
    {
      "cell_type": "code",
      "execution_count": null,
      "id": "551e79ae-5c25-43eb-ae71-f349253fa96a",
      "metadata": {
        "tags": [],
        "colab": {
          "base_uri": "https://localhost:8080/"
        },
        "id": "551e79ae-5c25-43eb-ae71-f349253fa96a",
        "outputId": "2179e049-36a4-415a-a73d-39457a76ff9f"
      },
      "outputs": [
        {
          "output_type": "stream",
          "name": "stdout",
          "text": [
            "Found 2191 unique tokens.\n"
          ]
        }
      ],
      "source": [
        "# get word -> integer mapping\n",
        "word2idx = tokenizer.word_index\n",
        "print('Found %s unique tokens.' % len(word2idx))"
      ]
    },
    {
      "cell_type": "code",
      "execution_count": null,
      "id": "0dc0b2d0-edd1-4207-9db8-bb2e89d54a0f",
      "metadata": {
        "tags": [],
        "colab": {
          "base_uri": "https://localhost:8080/"
        },
        "id": "0dc0b2d0-edd1-4207-9db8-bb2e89d54a0f",
        "outputId": "2618f238-4c8a-4744-faa7-0209ea36d7d8"
      },
      "outputs": [
        {
          "output_type": "stream",
          "name": "stdout",
          "text": [
            "Shape of data tensor: (1347, 100)\n",
            "[  0   0   0   0   0   0   0   0   0   0   0   0   0   0   0   0   0   0\n",
            "   0   0   0   0   0   0   0   0   0   0   0   0   0   0   0   0   0   0\n",
            "   0   0   0   0   0   0   0   0   0   0   0   0   0   0   0   0   0   0\n",
            "   0   0   0   0   0   0   0   0   0   0   0   0   0   0   0   0   0   0\n",
            "   0   0   0   0   0   0   0   0   0   0   0   4   2 129  29   5  27 293\n",
            "  26  22  55  99  36   5  36   5 172 231]\n"
          ]
        }
      ],
      "source": [
        "# pad sequences so that we get a N x T matrix\n",
        "data = pad_sequences(sequences, maxlen=MAX_SEQUENCE_LENGTH)\n",
        "print('Shape of data tensor:', data.shape)\n",
        "print(data[1])"
      ]
    },
    {
      "cell_type": "code",
      "execution_count": null,
      "id": "1f6519cf-c406-4811-8c2d-d44b172f7817",
      "metadata": {
        "tags": [],
        "colab": {
          "base_uri": "https://localhost:8080/"
        },
        "id": "1f6519cf-c406-4811-8c2d-d44b172f7817",
        "outputId": "a7ac3ab6-b869-4969-c7b4-defbdfdbdc40"
      },
      "outputs": [
        {
          "output_type": "stream",
          "name": "stdout",
          "text": [
            "Filling pre-trained embeddings...\n"
          ]
        }
      ],
      "source": [
        "# prepare embedding matrix\n",
        "print('Filling pre-trained embeddings...')\n",
        "num_words = min(MAX_VOCAB_SIZE, len(word2idx) + 1)\n",
        "embedding_matrix = np.zeros((num_words, EMBEDDING_DIM))\n",
        "for word, i in word2idx.items():\n",
        "  if i < MAX_VOCAB_SIZE:\n",
        "    embedding_vector = word2vec.get(word)\n",
        "    if embedding_vector is not None:\n",
        "      # words not found in embedding index will be all zeros.\n",
        "      embedding_matrix[i] = embedding_vector"
      ]
    },
    {
      "cell_type": "code",
      "execution_count": null,
      "id": "a2a3b3f8-7ff5-4550-995d-e725d316cdd6",
      "metadata": {
        "tags": [],
        "id": "a2a3b3f8-7ff5-4550-995d-e725d316cdd6"
      },
      "outputs": [],
      "source": [
        "# load pre-trained word embeddings into an Embedding layer\n",
        "# note that we set trainable = False so as to keep the embeddings fixed\n",
        "embedding_layer = Embedding(\n",
        "  num_words,\n",
        "  EMBEDDING_DIM,\n",
        "  weights=[embedding_matrix],\n",
        "  input_length=MAX_SEQUENCE_LENGTH,\n",
        "  trainable=False\n",
        ")"
      ]
    },
    {
      "cell_type": "markdown",
      "source": [
        "# Creating Model"
      ],
      "metadata": {
        "id": "7otck3ST2n0Z"
      },
      "id": "7otck3ST2n0Z"
    },
    {
      "cell_type": "code",
      "execution_count": null,
      "id": "117aba88-5e81-4556-88f1-81d85ce7cb8a",
      "metadata": {
        "tags": [],
        "colab": {
          "base_uri": "https://localhost:8080/"
        },
        "id": "117aba88-5e81-4556-88f1-81d85ce7cb8a",
        "outputId": "9f94a66a-c106-4db2-ecd0-1f904fd80e6a"
      },
      "outputs": [
        {
          "output_type": "stream",
          "name": "stdout",
          "text": [
            "Building model...\n",
            "KerasTensor(type_spec=TensorSpec(shape=(2,), dtype=tf.float32, name=None), name='tf.__operators__.getitem/strided_slice:0', description=\"created by layer 'tf.__operators__.getitem'\")\n"
          ]
        }
      ],
      "source": [
        "print('Building model...')\n",
        "\n",
        "# create an LSTM network with a single LSTM\n",
        "input_ = Input(shape=(MAX_SEQUENCE_LENGTH,))\n",
        "x = embedding_layer(input_)\n",
        "x = LSTM(15, return_sequences=True)(x)\n",
        "# x = Bidirectional(LSTM(15, return_sequences=True))(x)\n",
        "x = GlobalMaxPool1D()(x)\n",
        "output = Dense(len(possible_labels), activation=\"sigmoid\")(x)\n",
        "print(output[2])\n",
        "\n",
        "model = Model(input_, output)\n",
        "model.compile(\n",
        "  loss='binary_crossentropy',\n",
        "  optimizer=Adam(learning_rate=0.01),\n",
        "  metrics=['accuracy'],\n",
        ")"
      ]
    },
    {
      "cell_type": "code",
      "source": [
        "plot_model(model, to_file='model.png')"
      ],
      "metadata": {
        "colab": {
          "base_uri": "https://localhost:8080/",
          "height": 466
        },
        "id": "jybKt9RZoE6t",
        "outputId": "99d2c785-9f90-4a57-f524-ec55a5b1e017"
      },
      "id": "jybKt9RZoE6t",
      "execution_count": null,
      "outputs": [
        {
          "output_type": "execute_result",
          "data": {
            "image/png": "[encoded data removed]",
            "text/plain": [
              "<IPython.core.display.Image object>"
            ]
          },
          "metadata": {},
          "execution_count": 16
        }
      ]
    },
    {
      "cell_type": "code",
      "source": [
        "#from keras.models import Sequential\n",
        "#from keras.layers import Dense\n",
        "!pip install keras.utils.vis_utils import plot_model\n",
        "#!python -c 'import keras; print(keras.__version__)'\n"
      ],
      "metadata": {
        "colab": {
          "base_uri": "https://localhost:8080/"
        },
        "id": "UxH1zvp4oTJ5",
        "outputId": "37e25b07-53b8-46aa-c6f9-ed94b0478588"
      },
      "id": "UxH1zvp4oTJ5",
      "execution_count": null,
      "outputs": [
        {
          "output_type": "stream",
          "name": "stdout",
          "text": [
            "\u001b[31mERROR: Could not find a version that satisfies the requirement keras.utils.vis_utils (from versions: none)\u001b[0m\u001b[31m\n",
            "\u001b[0m\u001b[31mERROR: No matching distribution found for keras.utils.vis_utils\u001b[0m\u001b[31m\n",
            "\u001b[0m"
          ]
        }
      ]
    },
    {
      "cell_type": "code",
      "source": [
        "train_inputs = data[:1000]\n",
        "valid_inputs = data[1000:]\n",
        "train_targets = targets[:1000]\n",
        "valid_targets = targets[1000:]\n",
        "\n",
        "print(len(train_inputs))\n",
        "print(len(valid_inputs))\n",
        "print(len(train_targets))\n",
        "print(len(valid_targets))"
      ],
      "metadata": {
        "colab": {
          "base_uri": "https://localhost:8080/"
        },
        "id": "34UESSqChycc",
        "outputId": "a552035e-6e98-4bbf-97b4-7a083c956234"
      },
      "id": "34UESSqChycc",
      "execution_count": null,
      "outputs": [
        {
          "output_type": "stream",
          "name": "stdout",
          "text": [
            "1000\n",
            "347\n",
            "1000\n",
            "347\n"
          ]
        }
      ]
    },
    {
      "cell_type": "markdown",
      "source": [
        "# Training"
      ],
      "metadata": {
        "id": "4LMoHIax2qci"
      },
      "id": "4LMoHIax2qci"
    },
    {
      "cell_type": "code",
      "execution_count": null,
      "id": "368f7ba1-c499-4f78-91d6-de091f841ec5",
      "metadata": {
        "tags": [],
        "colab": {
          "base_uri": "https://localhost:8080/"
        },
        "id": "368f7ba1-c499-4f78-91d6-de091f841ec5",
        "outputId": "059f557b-4c43-4439-a1d9-66e0812a0d76"
      },
      "outputs": [
        {
          "output_type": "stream",
          "name": "stdout",
          "text": [
            "Training model...\n",
            "Epoch 1/5\n",
            "8/8 [==============================] - 6s 361ms/step - loss: 0.3956 - accuracy: 0.9240 - val_loss: 0.2606 - val_accuracy: 0.9308\n",
            "Epoch 2/5\n",
            "8/8 [==============================] - 1s 100ms/step - loss: 0.2454 - accuracy: 0.9220 - val_loss: 0.2215 - val_accuracy: 0.9308\n",
            "Epoch 3/5\n",
            "8/8 [==============================] - 1s 91ms/step - loss: 0.2243 - accuracy: 0.9220 - val_loss: 0.2130 - val_accuracy: 0.9308\n",
            "Epoch 4/5\n",
            "8/8 [==============================] - 1s 87ms/step - loss: 0.2187 - accuracy: 0.9220 - val_loss: 0.2132 - val_accuracy: 0.9308\n",
            "Epoch 5/5\n",
            "8/8 [==============================] - 0s 62ms/step - loss: 0.2174 - accuracy: 0.9220 - val_loss: 0.2143 - val_accuracy: 0.9308\n"
          ]
        }
      ],
      "source": [
        "print('Training model...')\n",
        "r = model.fit(\n",
        "  x = train_inputs,\n",
        "  y = train_targets,\n",
        "  batch_size = BATCH_SIZE,\n",
        "  epochs = EPOCHS,\n",
        "  validation_data = (valid_inputs,valid_targets)\n",
        ")"
      ]
    },
    {
      "cell_type": "markdown",
      "source": [
        "# Plot"
      ],
      "metadata": {
        "id": "OfotsU7a2tnt"
      },
      "id": "OfotsU7a2tnt"
    },
    {
      "cell_type": "code",
      "execution_count": null,
      "id": "ba557c4b-3c90-48d6-a8aa-183a4b177487",
      "metadata": {
        "tags": [],
        "colab": {
          "base_uri": "https://localhost:8080/",
          "height": 430
        },
        "id": "ba557c4b-3c90-48d6-a8aa-183a4b177487",
        "outputId": "829b54bc-0209-4704-dd27-3ccf92287886"
      },
      "outputs": [
        {
          "output_type": "display_data",
          "data": {
            "text/plain": [
              "<Figure size 640x480 with 1 Axes>"
            ],
            "image/png": "[encoded data removed]"
          },
          "metadata": {}
        }
      ],
      "source": [
        "# plot some data\n",
        "plt.plot(r.history['loss'], label='loss')\n",
        "plt.plot(r.history['val_loss'], label='val_loss')\n",
        "plt.legend()\n",
        "plt.show()"
      ]
    },
    {
      "cell_type": "code",
      "execution_count": null,
      "id": "633dedbc-9ba8-4061-ae82-e4ce8835f4d6",
      "metadata": {
        "tags": [],
        "colab": {
          "base_uri": "https://localhost:8080/",
          "height": 430
        },
        "id": "633dedbc-9ba8-4061-ae82-e4ce8835f4d6",
        "outputId": "1e9cb299-4b64-44f5-f867-2f21980dd0c4"
      },
      "outputs": [
        {
          "output_type": "display_data",
          "data": {
            "text/plain": [
              "<Figure size 640x480 with 1 Axes>"
            ],
            "image/png": "[encoded data removed]"
          },
          "metadata": {}
        }
      ],
      "source": [
        "# accuracies\n",
        "plt.plot(r.history['accuracy'], label='acc')\n",
        "plt.plot(r.history['val_accuracy'], label='val_acc')\n",
        "plt.legend()\n",
        "plt.show()"
      ]
    },
    {
      "cell_type": "markdown",
      "source": [
        "# Score"
      ],
      "metadata": {
        "id": "OpRUGIjx2xO1"
      },
      "id": "OpRUGIjx2xO1"
    },
    {
      "cell_type": "code",
      "execution_count": null,
      "id": "99471033-ff82-4417-a8ac-ef2fc3764a14",
      "metadata": {
        "tags": [],
        "colab": {
          "base_uri": "https://localhost:8080/"
        },
        "id": "99471033-ff82-4417-a8ac-ef2fc3764a14",
        "outputId": "c1c28f2f-e070-4e5f-a905-264dc33836c2"
      },
      "outputs": [
        {
          "output_type": "stream",
          "name": "stdout",
          "text": [
            "11/11 [==============================] - 0s 7ms/step\n",
            "1.0\n",
            "\n"
          ]
        }
      ],
      "source": [
        "p = model.predict(valid_inputs)\n",
        "aucs = []\n",
        "for j in range(10):\n",
        "    auc = roc_auc_score(valid_targets[j], p[j])\n",
        "    aucs.append(auc)\n",
        "print(np.mean(aucs))\n",
        "print()"
      ]
    },
    {
      "cell_type": "code",
      "source": [
        "from keras.metrics import F1Score\n",
        "valid_predictions = model.predict(valid_inputs)\n",
        "\n",
        "f1 = F1Score(threshold=0.5)\n",
        "f1.update_state(valid_targets, valid_predictions)\n",
        "result = f1.result()\n",
        "result.numpy()"
      ],
      "metadata": {
        "colab": {
          "base_uri": "https://localhost:8080/",
          "height": 231
        },
        "id": "sxageMH32ytF",
        "outputId": "107b63f8-fe78-4e17-c7e9-be1c57f7629e"
      },
      "id": "sxageMH32ytF",
      "execution_count": null,
      "outputs": [
        {
          "output_type": "error",
          "ename": "ImportError",
          "evalue": "ignored",
          "traceback": [
            "\u001b[0;31m---------------------------------------------------------------------------\u001b[0m",
            "\u001b[0;31mImportError\u001b[0m                               Traceback (most recent call last)",
            "Cell \u001b[0;32mIn[139], line 1\u001b[0m\n\u001b[0;32m----> 1\u001b[0m \u001b[38;5;28;01mfrom\u001b[39;00m \u001b[38;5;21;01mkeras\u001b[39;00m\u001b[38;5;21;01m.\u001b[39;00m\u001b[38;5;21;01mmetrics\u001b[39;00m \u001b[38;5;28;01mimport\u001b[39;00m F1Score\n\u001b[1;32m      2\u001b[0m valid_predictions \u001b[38;5;241m=\u001b[39m model\u001b[38;5;241m.\u001b[39mpredict(valid_inputs)\n\u001b[1;32m      4\u001b[0m f1 \u001b[38;5;241m=\u001b[39m F1Score(threshold\u001b[38;5;241m=\u001b[39m\u001b[38;5;241m0.5\u001b[39m)\n",
            "\u001b[0;31mImportError\u001b[0m: cannot import name 'F1Score' from 'keras.metrics' (/home/alkhemi/miniconda3/envs/tf_circulant/lib/python3.9/site-packages/keras/metrics/__init__.py)"
          ]
        }
      ]
    },
    {
      "cell_type": "markdown",
      "source": [
        "# Empathy Model"
      ],
      "metadata": {
        "id": "jEHWYLJYsjDQ"
      },
      "id": "jEHWYLJYsjDQ"
    },
    {
      "cell_type": "code",
      "source": [
        "from keras.utils import pad_sequences\n",
        "\n",
        "class EmpathyModel():\n",
        "  def __init__(self,tokenizer,model):\n",
        "    super().__init__()\n",
        "    self.tokenizer = tokenizer\n",
        "    self.model = model\n",
        "\n",
        "  def __call__(self, sentences):\n",
        "    sequences = self.tokenizer.texts_to_sequences(sentences)\n",
        "    inputs = pad_sequences(sequences, maxlen=MAX_SEQUENCE_LENGTH)\n",
        "    return self.model.predict(inputs)"
      ],
      "metadata": {
        "id": "MdsL18mvsiU3"
      },
      "id": "MdsL18mvsiU3",
      "execution_count": null,
      "outputs": []
    },
    {
      "cell_type": "code",
      "source": [
        "empathy_model = EmpathyModel(tokenizer,model)"
      ],
      "metadata": {
        "id": "9osFXpi5tk8O"
      },
      "id": "9osFXpi5tk8O",
      "execution_count": null,
      "outputs": []
    },
    {
      "cell_type": "code",
      "source": [
        "sentences[0:5]"
      ],
      "metadata": {
        "colab": {
          "base_uri": "https://localhost:8080/"
        },
        "id": "Yt4s9Isuu1s9",
        "outputId": "1985e00c-1a34-4e67-a167-28d05281292d"
      },
      "id": "Yt4s9Isuu1s9",
      "execution_count": null,
      "outputs": [
        {
          "output_type": "execute_result",
          "data": {
            "text/plain": [
              "array(['What brings you in here today?;Yeah, I have this pain in my chest',\n",
              "       \"OK, and where is the pain exactly? ;It's just right  over on the on the left side\",\n",
              "       'OK, and when did this pain start?;It started just 30 minutes ago',\n",
              "       'OK, and did it just come on randomly or were you doing something strenuous?; I was just shovelling the driveway and it came on',\n",
              "       \"OK, and has that pain been getting worse at all over the last half an hour?;No, it just came on suddenly and it's uh, uh, I'm sorry. Yeah the pain has been there this whole time and it's gotten worse ever since it started\"],\n",
              "      dtype=object)"
            ]
          },
          "metadata": {},
          "execution_count": 102
        }
      ]
    },
    {
      "cell_type": "code",
      "source": [
        "dfh = tokenizer.texts_to_sequences(sentences)\n",
        "print(dfh[0:5])"
      ],
      "metadata": {
        "colab": {
          "base_uri": "https://localhost:8080/"
        },
        "id": "qsKb7GYnvAR2",
        "outputId": "78f900fb-8d39-4d42-d187-c64a73291c5f"
      },
      "id": "qsKb7GYnvAR2",
      "execution_count": null,
      "outputs": [
        {
          "output_type": "stream",
          "name": "stdout",
          "text": [
            "[[52, 338, 3, 19, 153, 119, 20, 1, 14, 38, 27, 19, 30, 134], [4, 2, 129, 29, 5, 27, 293, 26, 22, 55, 99, 36, 5, 36, 5, 172, 231], [4, 2, 37, 71, 38, 27, 232, 12, 111, 22, 379, 476, 75], [4, 2, 71, 12, 22, 164, 36, 1308, 13, 130, 3, 173, 104, 1309, 1, 32, 22, 1310, 5, 1311, 2, 12, 308, 36], [4, 2, 51, 9, 27, 24, 197, 84, 33, 45, 99, 5, 79, 420, 78, 356, 8, 12, 22, 308, 36, 702, 2, 26, 17, 17, 42, 218, 20, 5, 27, 51, 24, 53, 38, 477, 95, 2, 26, 357, 84, 131, 209, 12, 111]]\n"
          ]
        }
      ]
    },
    {
      "cell_type": "code",
      "source": [
        "empathy_model([\"Hello, World\",])"
      ],
      "metadata": {
        "colab": {
          "base_uri": "https://localhost:8080/"
        },
        "id": "irZ5MSKVuQbN",
        "outputId": "8f4fc916-db42-49ab-91b8-4761754c9dc2"
      },
      "id": "irZ5MSKVuQbN",
      "execution_count": null,
      "outputs": [
        {
          "output_type": "stream",
          "name": "stdout",
          "text": [
            "1/1 [==============================] - 0s 21ms/step\n"
          ]
        },
        {
          "output_type": "execute_result",
          "data": {
            "text/plain": [
              "array([[0.42161322, 0.56411886]], dtype=float32)"
            ]
          },
          "metadata": {},
          "execution_count": 116
        }
      ]
    },
    {
      "cell_type": "markdown",
      "source": [
        "# Save"
      ],
      "metadata": {
        "id": "m3QeJHqMoykI"
      },
      "id": "m3QeJHqMoykI"
    },
    {
      "cell_type": "code",
      "source": [
        "tokenizer_json = tokenizer.to_json()\n",
        "\n",
        "# Writing to sjson\n",
        "with open(PROJECT_DIR+\"tokenizer.json\", \"w\") as outfile:\n",
        "    outfile.write(tokenizer_json)"
      ],
      "metadata": {
        "id": "yaNAX8sHxFPJ"
      },
      "id": "yaNAX8sHxFPJ",
      "execution_count": null,
      "outputs": []
    },
    {
      "cell_type": "code",
      "execution_count": null,
      "id": "e1095fa7-3738-445c-aead-3f69434c2280",
      "metadata": {
        "id": "e1095fa7-3738-445c-aead-3f69434c2280"
      },
      "outputs": [],
      "source": [
        "model.save(PROJECT_DIR+\"model.h5\",save_format=\"h5\")"
      ]
    },
    {
      "cell_type": "markdown",
      "source": [
        "# Load and test"
      ],
      "metadata": {
        "id": "dVdei5ecqF0A"
      },
      "id": "dVdei5ecqF0A"
    },
    {
      "cell_type": "code",
      "source": [
        "from keras.models import load_model\n",
        "from keras.preprocessing.text import tokenizer_from_json\n",
        "import json\n",
        "\n",
        "# reading json\n",
        "with open(PROJECT_DIR+\"tokenizer.json\", \"r\") as file:\n",
        "  json_string = file.read()\n",
        "  new_tokenizer = tokenizer_from_json(json_string)\n",
        "\n",
        "new_model = load_model(PROJECT_DIR + 'model.h5')\n",
        "\n",
        "new_empathy_model = EmpathyModel(new_tokenizer,new_model)"
      ],
      "metadata": {
        "id": "XJ6IH9ZZqJLl"
      },
      "id": "XJ6IH9ZZqJLl",
      "execution_count": null,
      "outputs": []
    },
    {
      "cell_type": "code",
      "source": [
        "new_empathy_model([\"Hello, World\"])"
      ],
      "metadata": {
        "colab": {
          "base_uri": "https://localhost:8080/"
        },
        "id": "NEM3BZAlrW7j",
        "outputId": "63337c9c-da70-404d-d736-e4f466b4e0b7"
      },
      "id": "NEM3BZAlrW7j",
      "execution_count": null,
      "outputs": [
        {
          "output_type": "stream",
          "name": "stdout",
          "text": [
            "1/1 [==============================] - 0s 16ms/step\n"
          ]
        },
        {
          "output_type": "execute_result",
          "data": {
            "text/plain": [
              "array([[0.42161322, 0.56411886]], dtype=float32)"
            ]
          },
          "metadata": {},
          "execution_count": 131
        }
      ]
    }
  ],
  "metadata": {
    "kernelspec": {
      "display_name": "Python 3 (ipykernel)",
      "language": "python",
      "name": "python3"
    },
    "language_info": {
      "codemirror_mode": {
        "name": "ipython",
        "version": 3
      },
      "file_extension": ".py",
      "mimetype": "text/x-python",
      "name": "python",
      "nbconvert_exporter": "python",
      "pygments_lexer": "ipython3",
      "version": "3.10.10"
    },
    "colab": {
      "provenance": [],
      "include_colab_link": true
    }
  },
  "nbformat": 4,
  "nbformat_minor": 5
}